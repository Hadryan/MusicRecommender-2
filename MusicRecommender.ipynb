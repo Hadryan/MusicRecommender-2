{
 "cells": [
  {
   "cell_type": "code",
   "execution_count": 3,
   "metadata": {},
   "outputs": [
    {
     "data": {
      "text/plain": [
       "array(['HipHop'], dtype=object)"
      ]
     },
     "execution_count": 3,
     "metadata": {},
     "output_type": "execute_result"
    }
   ],
   "source": [
    "#Melikaya Matiwane\n",
    "import pandas as pd\n",
    "from sklearn.tree import DecisionTreeClassifier\n",
    "from sklearn.externals import joblib\n",
    "\n",
    "#reading the csv file and splitting the data into input(first two columns) \n",
    "# and output (prediction/genre)\n",
    "\n",
    "#music_data = pd.read_csv('music.csv',sep=';')\n",
    "#X = music_data.drop(columns=['genre'])\n",
    "#y = music_data['genre']\n",
    "\n",
    "#train model\n",
    "#model = DecisionTreeClassifier()\n",
    "#model.fit(X, y)\n",
    "\n",
    "#store the trained model into a file\n",
    "#joblib.dump(model, 'music-recommender.joblib')\n",
    "\n",
    "#after storing the model into a file you load the model, instead of training it again\n",
    "\n",
    "model = joblib.load('music-recommender.joblib')\n",
    "\n",
    "# predict using gender and age. 1 is for male and 0 for female\n",
    "predictions = model.predict([[21, 1]])\n",
    "predictions"
   ]
  },
  {
   "cell_type": "code",
   "execution_count": null,
   "metadata": {},
   "outputs": [],
   "source": []
  }
 ],
 "metadata": {
  "kernelspec": {
   "display_name": "Python 3",
   "language": "python",
   "name": "python3"
  },
  "language_info": {
   "codemirror_mode": {
    "name": "ipython",
    "version": 3
   },
   "file_extension": ".py",
   "mimetype": "text/x-python",
   "name": "python",
   "nbconvert_exporter": "python",
   "pygments_lexer": "ipython3",
   "version": "3.7.3"
  }
 },
 "nbformat": 4,
 "nbformat_minor": 2
}
